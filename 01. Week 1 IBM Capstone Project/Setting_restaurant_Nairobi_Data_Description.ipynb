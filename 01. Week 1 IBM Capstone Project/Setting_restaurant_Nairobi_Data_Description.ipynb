{
 "cells": [
  {
   "cell_type": "markdown",
   "metadata": {},
   "source": [
    "# 1.2 Data Description"
   ]
  },
  {
   "cell_type": "markdown",
   "metadata": {},
   "source": [
    "Obtaining relevant location data is key to solving the problem of strategic location of a restaurant .\n",
    "I have therefore used geolocation data from **Foursquare** to get Data partaining the location of the restaurant and its neigbours within a 4 km  radius . This include the longitude and latitude coordinates as these are essentiall in mapping ,the shop name of the restaurant and the about has also been collected . This I have then converted to a pandas dataframe for ease of use ."
   ]
  },
  {
   "cell_type": "markdown",
   "metadata": {},
   "source": [
    "With the infomation about the location of the existing restaurants it is possible to apply KDE(Kernel Density Estimation) to identify the concentration of exisitng restaurants and set up a new restaurant where there exists few\n"
   ]
  },
  {
   "cell_type": "code",
   "execution_count": 9,
   "metadata": {},
   "outputs": [
    {
     "data": {
      "text/html": [
       "<div>\n",
       "<style scoped>\n",
       "    .dataframe tbody tr th:only-of-type {\n",
       "        vertical-align: middle;\n",
       "    }\n",
       "\n",
       "    .dataframe tbody tr th {\n",
       "        vertical-align: top;\n",
       "    }\n",
       "\n",
       "    .dataframe thead th {\n",
       "        text-align: right;\n",
       "    }\n",
       "</style>\n",
       "<table border=\"1\" class=\"dataframe\">\n",
       "  <thead>\n",
       "    <tr style=\"text-align: right;\">\n",
       "      <th></th>\n",
       "      <th>name</th>\n",
       "      <th>shortname</th>\n",
       "      <th>lat</th>\n",
       "      <th>lng</th>\n",
       "    </tr>\n",
       "  </thead>\n",
       "  <tbody>\n",
       "    <tr>\n",
       "      <th>0</th>\n",
       "      <td>CJ's</td>\n",
       "      <td>Coffee Shop</td>\n",
       "      <td>-1.283147</td>\n",
       "      <td>36.818323</td>\n",
       "    </tr>\n",
       "    <tr>\n",
       "      <th>1</th>\n",
       "      <td>Subway,Kenyatta Avenue</td>\n",
       "      <td>Sandwiches</td>\n",
       "      <td>-1.284390</td>\n",
       "      <td>36.821827</td>\n",
       "    </tr>\n",
       "    <tr>\n",
       "      <th>2</th>\n",
       "      <td>Cafe Maghreb (Serena)</td>\n",
       "      <td>Eastern European</td>\n",
       "      <td>-1.286752</td>\n",
       "      <td>36.814836</td>\n",
       "    </tr>\n",
       "    <tr>\n",
       "      <th>3</th>\n",
       "      <td>Najmi Fast Food</td>\n",
       "      <td>Fast Food</td>\n",
       "      <td>-1.280862</td>\n",
       "      <td>36.821209</td>\n",
       "    </tr>\n",
       "    <tr>\n",
       "      <th>4</th>\n",
       "      <td>Tatu Restaurant</td>\n",
       "      <td>African</td>\n",
       "      <td>-1.278291</td>\n",
       "      <td>36.816383</td>\n",
       "    </tr>\n",
       "  </tbody>\n",
       "</table>\n",
       "</div>"
      ],
      "text/plain": [
       "                     name         shortname       lat        lng\n",
       "0                    CJ's       Coffee Shop -1.283147  36.818323\n",
       "1  Subway,Kenyatta Avenue        Sandwiches -1.284390  36.821827\n",
       "2   Cafe Maghreb (Serena)  Eastern European -1.286752  36.814836\n",
       "3         Najmi Fast Food         Fast Food -1.280862  36.821209\n",
       "4         Tatu Restaurant           African -1.278291  36.816383"
      ]
     },
     "execution_count": 9,
     "metadata": {},
     "output_type": "execute_result"
    }
   ],
   "source": [
    "## making api calls to foursquare\n",
    "import pandas as pd\n",
    "import requests as rq\n",
    "CLIENT_ID = 'DPIZ13PIHP1BYV3EAJVTRO4GPMFPOCBVTHKT45OPNYCKCWGS' # my Foursquare ID\n",
    "CLIENT_SECRET = 'MMKATV3MMUCFBLIQ4MJELX5ZDD12AFCMCHKJWNI223NRHCIL' #my Foursquare Secret\n",
    "VERSION = '20180604'\n",
    "LIMIT = 30\n",
    "request_data = {\n",
    "    \"client_id\": CLIENT_ID,\n",
    "    \"client_secret\": CLIENT_SECRET,\n",
    "    \"v\": '20180605',\n",
    "    \"section\":\"restaurant\",\n",
    "    \"near\": \"Nairobi\",\n",
    "    \"radius\": 4000,#within 4km radius\n",
    "    \"limit\": 100}\n",
    "\n",
    "df_nai = rq.get(\"https://api.foursquare.com/v2/venues/explore\", params=request_data)\n",
    "\n",
    "d = df_nai.json()[\"response\"]\n",
    "items = d[\"groups\"][0][\"items\"]\n",
    "df_restaurant = []\n",
    "for item in items:\n",
    "    venue = item[\"venue\"]\n",
    "    categories, uid, name,location = venue[\"categories\"], venue[\"id\"], venue[\"name\"],item[\"venue\"][\"location\"]\n",
    "    assert len(categories) == 1\n",
    "    shortname = categories[0][\"shortName\"]\n",
    "    lat = location[\"lat\"]\n",
    "    lng = location[\"lng\"]\n",
    "    datarow = (name, shortname, lat, lng)\n",
    "    df_restaurant.append(datarow)\n",
    "df = pd.DataFrame(df_restaurant, columns=[\"name\", \"shortname\", \"lat\", \"lng\"])\n",
    "df.head()"
   ]
  },
  {
   "cell_type": "code",
   "execution_count": null,
   "metadata": {},
   "outputs": [],
   "source": []
  }
 ],
 "metadata": {
  "kernelspec": {
   "display_name": "Python 3",
   "language": "python",
   "name": "python3"
  },
  "language_info": {
   "codemirror_mode": {
    "name": "ipython",
    "version": 3
   },
   "file_extension": ".py",
   "mimetype": "text/x-python",
   "name": "python",
   "nbconvert_exporter": "python",
   "pygments_lexer": "ipython3",
   "version": "3.7.1"
  }
 },
 "nbformat": 4,
 "nbformat_minor": 2
}
