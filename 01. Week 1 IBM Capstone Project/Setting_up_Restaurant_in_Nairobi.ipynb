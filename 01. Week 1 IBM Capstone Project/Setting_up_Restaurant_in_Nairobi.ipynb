{
 "cells": [
  {
   "cell_type": "markdown",
   "metadata": {},
   "source": [
    "## 1. Introduction"
   ]
  },
  {
   "cell_type": "markdown",
   "metadata": {},
   "source": [
    "## 1.1 Background of the problem"
   ]
  },
  {
   "cell_type": "markdown",
   "metadata": {},
   "source": [
    "Nairobi is the capital city of Kenya and accounts for 40 percent of all financial transactions in the country.The \n",
    "population of Nairobi as at 2019 was estimated to be 4,397,073 accounting for more than 10 percent of the total Kenyan populationThis makes\n",
    "it a viable option for an investor looking to get higher margins especially in the entertainment and hospitality industry.\n",
    "For an **entrepreuner looking to set up a major restaurant** in the city strategic location is key to the success and sustainability of the business , this is primarily because customers are the backbone of such a business and the more the customers the heigher the profit margins .\n",
    "Owing to the number of existing restaurants within the city it is important to set up aa new one where it would be much more reasonable to target newer audiences . \n",
    "\n",
    "However, it is increasingly  difficult to obtain information that will guide investors in this direction. \n",
    "\n",
    "In regard to this I aim to use Kernel Density Estimates to help solve this through weighting the distances of all the data points of the existing restaurants  from the center of the city . USing this a map can be generated and the points with higher concentration of restaurants identified"
   ]
  },
  {
   "cell_type": "code",
   "execution_count": null,
   "metadata": {},
   "outputs": [],
   "source": []
  }
 ],
 "metadata": {
  "kernelspec": {
   "display_name": "Python 3",
   "language": "python",
   "name": "python3"
  },
  "language_info": {
   "name": ""
  }
 },
 "nbformat": 4,
 "nbformat_minor": 2
}
