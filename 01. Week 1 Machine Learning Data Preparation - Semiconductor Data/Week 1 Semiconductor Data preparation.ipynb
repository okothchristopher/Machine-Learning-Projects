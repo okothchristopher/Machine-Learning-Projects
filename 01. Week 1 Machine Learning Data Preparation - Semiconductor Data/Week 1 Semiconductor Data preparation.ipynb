{
 "cells": [
  {
   "cell_type": "markdown",
   "metadata": {},
   "source": [
    "## Background \n",
    "### semiconductor_data\n",
    "\n",
    "The data comes from [CHIP Dataset](https://chip-dataset.vercel.app/).\n",
    "\n",
    "- [Moore's Law](https://www.synopsys.com/glossary/what-is-moores-law.html#:~:text=Definition,as%20E%20%3D%20mc2).)\n",
    "- [Wikipedia - Moore's Law](https://en.wikipedia.org/wiki/Moore%27s_law)\n",
    "\n",
    "> Moore's law is the observation that the number of transistors in a dense integrated circuit (IC) doubles about every two years. Moore's law is an observation and projection of a historical trend. Rather than a law of physics, it is an empirical relationship linked to gains from experience in production.\n",
    "\n",
    "Paper for citation: [Summarizing CPU and GPU Design Trends with Product Data](https://arxiv.org/abs/1911.11313)\n",
    "\n",
    "Note that the authors prohibit resharing the dataset, we have a simple summary. You can easily download the full dataset at the bottom of: <https://chip-dataset.vercel.app/>\n",
    "\n",
    "# In this Notebook we will explore the following tasks\n",
    "We will practice data cleaning skills on the main data (not the summarized version) by perfoming the following tasks: \n",
    "1. Explore the missingness in the dataset for categorical and numerical data\n",
    "2. Develop a strategy to deal with the missing values, i.e deletion, imputation by mean or mode etc, whilst providing rationale for your approach.\n",
    "3. Drop non-consequntial fields\n",
    "4. Transform temporal data to their corrrect format (date time) \n",
    "5. Perfom a full EDA and demonstrate the validity of the following assumptions \n",
    "> - Moore's Law still holds, especially in GPUs.\n",
    "> - Dannard Scaling is still valid in general.\n",
    "> - CPUs have higher frequencies, but GPUs are catching up.\n",
    "> - GPU performance doubles every 1.5 years.\n",
    "> - GPU performance improvement is a joint effect of smaller transistors, larger die size, and higher frequency.\n",
    "> - High-end GPUs tends to first use new semiconductor technologies. Low-end GPUs may use old technologies for a few years.\n",
    "> - Process Size for Intel, AMD and Nvidia lies in comparatively lower range than for ATI and other vemdors\n",
    "> - TSMC makes the highest number of chips in the world\n",
    "\n",
    "6. Calculate and visualized the correlation among the features\n",
    "7. Perfom the correct encoding for your data, in readiness for modelling. \n",
    "\n",
    "# bonus task \n",
    "\n",
    "Since it is your first week of ML, it is okay if you do not proceed to this section, however, if you feel adventureous, you can explore a classification model to predict whether a product is a GPU or a CPU based on the other independent variables. \n",
    "- Compare the perfomance of a Random Forest Classifier with that of a Logistic Regression Model\n",
    "\n",
    "\n",
    "# data dictionary\n",
    "\n",
    "# `semiconductor-chips.csv`\n",
    "\n",
    "|variable                 |class     |description |\n",
    "|:------------------------|:---------|:-----------|\n",
    "|date                     |double    |Date of release    |\n",
    "|type                     |character |Type of chip    |\n",
    "|foundry                  |character | Creator    |\n",
    "|vendor                   |character | Vendor    |\n",
    "|process_size_nm_mean     |double    | Process size in nanometer    |\n",
    "|process_size_nm_sd       |double    |    Process size in nanometer |\n",
    "|tdp_w_mean               |double    | Thermal design profile    |\n",
    "|tdp_w_sd                 |double    |Thermal design profile    |\n",
    "|die_size_mm_2_mean       |double    | Die size in millimeters^2    |\n",
    "|die_size_mm_2_sd         |double    |Die size in millimeters^2    |\n",
    "|transistors_million_mean |double    | Transitor count in millions    |\n",
    "|transistors_million_sd   |double    |Transitor count in millions    |\n",
    "|freq_m_hz_mean           |double    | Frequency (Mhz)    |\n",
    "|freq_m_hz_sd             |double    |Frequency (Mhz)    |\n",
    "|n                        |integer   | Total number of observations for date, type, foundry, vendor grouping    |\n",
    "\n"
   ]
  },
  {
   "cell_type": "markdown",
   "metadata": {},
   "source": [
    "## EDA"
   ]
  },
  {
   "cell_type": "code",
   "execution_count": 12,
   "metadata": {},
   "outputs": [],
   "source": [
    "# Importing Libaries to Use\n",
    "import pandas as pd\n",
    "import numpy as np\n",
    "import matplotlib.pyplot as plt\n",
    "import seaborn as sns\n",
    "# import plotly.express as px"
   ]
  },
  {
   "cell_type": "code",
   "execution_count": 13,
   "metadata": {},
   "outputs": [
    {
     "data": {
      "text/html": [
       "<div>\n",
       "<style scoped>\n",
       "    .dataframe tbody tr th:only-of-type {\n",
       "        vertical-align: middle;\n",
       "    }\n",
       "\n",
       "    .dataframe tbody tr th {\n",
       "        vertical-align: top;\n",
       "    }\n",
       "\n",
       "    .dataframe thead th {\n",
       "        text-align: right;\n",
       "    }\n",
       "</style>\n",
       "<table border=\"1\" class=\"dataframe\">\n",
       "  <thead>\n",
       "    <tr style=\"text-align: right;\">\n",
       "      <th></th>\n",
       "      <th>Product</th>\n",
       "      <th>Type</th>\n",
       "      <th>Release Date</th>\n",
       "      <th>Process Size (nm)</th>\n",
       "      <th>TDP (W)</th>\n",
       "      <th>Die Size (mm^2)</th>\n",
       "      <th>Transistors (million)</th>\n",
       "      <th>Freq (GHz)</th>\n",
       "      <th>Foundry</th>\n",
       "      <th>Vendor</th>\n",
       "      <th>FP16 GFLOPS</th>\n",
       "      <th>FP32 GFLOPS</th>\n",
       "      <th>FP64 GFLOPS</th>\n",
       "    </tr>\n",
       "  </thead>\n",
       "  <tbody>\n",
       "    <tr>\n",
       "      <th>0</th>\n",
       "      <td>AMD Athlon 1000</td>\n",
       "      <td>CPU</td>\n",
       "      <td>6/5/00</td>\n",
       "      <td>180</td>\n",
       "      <td>54</td>\n",
       "      <td>120</td>\n",
       "      <td>37</td>\n",
       "      <td>1000.0</td>\n",
       "      <td>NaN</td>\n",
       "      <td>AMD</td>\n",
       "      <td>NaN</td>\n",
       "      <td>NaN</td>\n",
       "      <td>NaN</td>\n",
       "    </tr>\n",
       "    <tr>\n",
       "      <th>1</th>\n",
       "      <td>AMD Athlon 1000</td>\n",
       "      <td>CPU</td>\n",
       "      <td>10/31/00</td>\n",
       "      <td>180</td>\n",
       "      <td>54</td>\n",
       "      <td>120</td>\n",
       "      <td>37</td>\n",
       "      <td>1000.0</td>\n",
       "      <td>NaN</td>\n",
       "      <td>AMD</td>\n",
       "      <td>NaN</td>\n",
       "      <td>NaN</td>\n",
       "      <td>NaN</td>\n",
       "    </tr>\n",
       "    <tr>\n",
       "      <th>2</th>\n",
       "      <td>AMD Athlon 1100</td>\n",
       "      <td>CPU</td>\n",
       "      <td>8/14/00</td>\n",
       "      <td>180</td>\n",
       "      <td>60</td>\n",
       "      <td>120</td>\n",
       "      <td>37</td>\n",
       "      <td>1100.0</td>\n",
       "      <td>NaN</td>\n",
       "      <td>AMD</td>\n",
       "      <td>NaN</td>\n",
       "      <td>NaN</td>\n",
       "      <td>NaN</td>\n",
       "    </tr>\n",
       "    <tr>\n",
       "      <th>3</th>\n",
       "      <td>AMD Athlon 1133</td>\n",
       "      <td>CPU</td>\n",
       "      <td>10/31/00</td>\n",
       "      <td>180</td>\n",
       "      <td>63</td>\n",
       "      <td>120</td>\n",
       "      <td>37</td>\n",
       "      <td>1133.0</td>\n",
       "      <td>NaN</td>\n",
       "      <td>AMD</td>\n",
       "      <td>NaN</td>\n",
       "      <td>NaN</td>\n",
       "      <td>NaN</td>\n",
       "    </tr>\n",
       "    <tr>\n",
       "      <th>4</th>\n",
       "      <td>AMD Athlon 1200</td>\n",
       "      <td>CPU</td>\n",
       "      <td>10/31/00</td>\n",
       "      <td>180</td>\n",
       "      <td>66</td>\n",
       "      <td>120</td>\n",
       "      <td>37</td>\n",
       "      <td>1200.0</td>\n",
       "      <td>NaN</td>\n",
       "      <td>AMD</td>\n",
       "      <td>NaN</td>\n",
       "      <td>NaN</td>\n",
       "      <td>NaN</td>\n",
       "    </tr>\n",
       "  </tbody>\n",
       "</table>\n",
       "</div>"
      ],
      "text/plain": [
       "           Product Type Release Date Process Size (nm) TDP (W)  \\\n",
       "0  AMD Athlon 1000  CPU       6/5/00               180      54   \n",
       "1  AMD Athlon 1000  CPU     10/31/00               180      54   \n",
       "2  AMD Athlon 1100  CPU      8/14/00               180      60   \n",
       "3  AMD Athlon 1133  CPU     10/31/00               180      63   \n",
       "4  AMD Athlon 1200  CPU     10/31/00               180      66   \n",
       "\n",
       "  Die Size (mm^2) Transistors (million)  Freq (GHz) Foundry Vendor  \\\n",
       "0             120                    37      1000.0     NaN    AMD   \n",
       "1             120                    37      1000.0     NaN    AMD   \n",
       "2             120                    37      1100.0     NaN    AMD   \n",
       "3             120                    37      1133.0     NaN    AMD   \n",
       "4             120                    37      1200.0     NaN    AMD   \n",
       "\n",
       "   FP16 GFLOPS  FP32 GFLOPS  FP64 GFLOPS  \n",
       "0          NaN          NaN          NaN  \n",
       "1          NaN          NaN          NaN  \n",
       "2          NaN          NaN          NaN  \n",
       "3          NaN          NaN          NaN  \n",
       "4          NaN          NaN          NaN  "
      ]
     },
     "execution_count": 13,
     "metadata": {},
     "output_type": "execute_result"
    }
   ],
   "source": [
    "# Importing the data ( Note I am working with the full file data here)\n",
    "chipdata = pd.read_csv(r\"C:\\Users\\DE737AP\\Downloads\\chip_dataset.csv\")\n",
    "chipdata.head()"
   ]
  },
  {
   "cell_type": "code",
   "execution_count": 18,
   "metadata": {},
   "outputs": [
    {
     "name": "stdout",
     "output_type": "stream",
     "text": [
      "<class 'pandas.core.frame.DataFrame'>\n",
      "RangeIndex: 4945 entries, 0 to 4944\n",
      "Data columns (total 13 columns):\n",
      " #   Column                 Non-Null Count  Dtype  \n",
      "---  ------                 --------------  -----  \n",
      " 0   Product                4945 non-null   object \n",
      " 1   Type                   4945 non-null   object \n",
      " 2   Release Date           4746 non-null   object \n",
      " 3   Process Size (nm)      4945 non-null   object \n",
      " 4   TDP (W)                4508 non-null   object \n",
      " 5   Die Size (mm^2)        4593 non-null   object \n",
      " 6   Transistors (million)  4390 non-null   object \n",
      " 7   Freq (GHz)             4508 non-null   float64\n",
      " 8   Foundry                4330 non-null   object \n",
      " 9   Vendor                 4945 non-null   object \n",
      " 10  FP16 GFLOPS            800 non-null    float64\n",
      " 11  FP32 GFLOPS            1685 non-null   float64\n",
      " 12  FP64 GFLOPS            1278 non-null   float64\n",
      "dtypes: float64(4), object(9)\n",
      "memory usage: 502.4+ KB\n"
     ]
    }
   ],
   "source": [
    "chipdata.info()"
   ]
  },
  {
   "cell_type": "code",
   "execution_count": 15,
   "metadata": {},
   "outputs": [
    {
     "data": {
      "text/html": [
       "<div>\n",
       "<style scoped>\n",
       "    .dataframe tbody tr th:only-of-type {\n",
       "        vertical-align: middle;\n",
       "    }\n",
       "\n",
       "    .dataframe tbody tr th {\n",
       "        vertical-align: top;\n",
       "    }\n",
       "\n",
       "    .dataframe thead th {\n",
       "        text-align: right;\n",
       "    }\n",
       "</style>\n",
       "<table border=\"1\" class=\"dataframe\">\n",
       "  <thead>\n",
       "    <tr style=\"text-align: right;\">\n",
       "      <th></th>\n",
       "      <th>Freq (GHz)</th>\n",
       "      <th>FP16 GFLOPS</th>\n",
       "      <th>FP32 GFLOPS</th>\n",
       "      <th>FP64 GFLOPS</th>\n",
       "    </tr>\n",
       "  </thead>\n",
       "  <tbody>\n",
       "    <tr>\n",
       "      <th>count</th>\n",
       "      <td>4508.000000</td>\n",
       "      <td>800.000000</td>\n",
       "      <td>1685.000000</td>\n",
       "      <td>1278.000000</td>\n",
       "    </tr>\n",
       "    <tr>\n",
       "      <th>mean</th>\n",
       "      <td>1615.430790</td>\n",
       "      <td>19033.061063</td>\n",
       "      <td>5403.009359</td>\n",
       "      <td>1096.608263</td>\n",
       "    </tr>\n",
       "    <tr>\n",
       "      <th>std</th>\n",
       "      <td>1084.641452</td>\n",
       "      <td>44865.341218</td>\n",
       "      <td>11492.095538</td>\n",
       "      <td>5232.537404</td>\n",
       "    </tr>\n",
       "    <tr>\n",
       "      <th>min</th>\n",
       "      <td>100.000000</td>\n",
       "      <td>10.020000</td>\n",
       "      <td>12.800000</td>\n",
       "      <td>3.600000</td>\n",
       "    </tr>\n",
       "    <tr>\n",
       "      <th>25%</th>\n",
       "      <td>650.000000</td>\n",
       "      <td>1299.500000</td>\n",
       "      <td>384.000000</td>\n",
       "      <td>59.247500</td>\n",
       "    </tr>\n",
       "    <tr>\n",
       "      <th>50%</th>\n",
       "      <td>1400.000000</td>\n",
       "      <td>6136.500000</td>\n",
       "      <td>1248.000000</td>\n",
       "      <td>136.350000</td>\n",
       "    </tr>\n",
       "    <tr>\n",
       "      <th>75%</th>\n",
       "      <td>2500.000000</td>\n",
       "      <td>20175.000000</td>\n",
       "      <td>5069.000000</td>\n",
       "      <td>382.450000</td>\n",
       "    </tr>\n",
       "    <tr>\n",
       "      <th>max</th>\n",
       "      <td>4700.000000</td>\n",
       "      <td>653700.000000</td>\n",
       "      <td>93240.000000</td>\n",
       "      <td>81720.000000</td>\n",
       "    </tr>\n",
       "  </tbody>\n",
       "</table>\n",
       "</div>"
      ],
      "text/plain": [
       "        Freq (GHz)    FP16 GFLOPS   FP32 GFLOPS   FP64 GFLOPS\n",
       "count  4508.000000     800.000000   1685.000000   1278.000000\n",
       "mean   1615.430790   19033.061063   5403.009359   1096.608263\n",
       "std    1084.641452   44865.341218  11492.095538   5232.537404\n",
       "min     100.000000      10.020000     12.800000      3.600000\n",
       "25%     650.000000    1299.500000    384.000000     59.247500\n",
       "50%    1400.000000    6136.500000   1248.000000    136.350000\n",
       "75%    2500.000000   20175.000000   5069.000000    382.450000\n",
       "max    4700.000000  653700.000000  93240.000000  81720.000000"
      ]
     },
     "execution_count": 15,
     "metadata": {},
     "output_type": "execute_result"
    }
   ],
   "source": [
    "# Understanding My data \n",
    "chipdata.describe()"
   ]
  },
  {
   "cell_type": "code",
   "execution_count": 16,
   "metadata": {},
   "outputs": [
    {
     "data": {
      "image/png": "[encoded data removed]",
      "text/plain": [
       "<Figure size 864x720 with 4 Axes>"
      ]
     },
     "metadata": {
      "needs_background": "light"
     },
     "output_type": "display_data"
    }
   ],
   "source": [
    "chipdata.hist(figsize=(12, 10), bins=30, edgecolor=\"blue\")\n",
    "plt.subplots_adjust(hspace=0.7, wspace=0.4)"
   ]
  },
  {
   "cell_type": "markdown",
   "metadata": {},
   "source": [
    "### Insights from Exploration \n",
    "- Comparing the max and 75% values, we can see a huge difference. It confirms the intuitions that there are a couple of extreme values in Process Size, TDP, Die Size, Transistors, Freq (MHz)\t\n",
    "- Process Size has a uniform distribution \n",
    "- The range of data is large for the following : Tansistors,GFLOPS (16,32,64)"
   ]
  },
  {
   "cell_type": "code",
   "execution_count": 19,
   "metadata": {},
   "outputs": [],
   "source": [
    "# ## Pairplot \n",
    "# df_pair = chipdata.drop(['Unnamed: 0','Release Date','Product','Foundry'],axis=1)\n",
    "# sns.pairplot(data=df_pair, hue=\"Vendor\", palette=\"viridis\")"
   ]
  },
  {
   "cell_type": "code",
   "execution_count": 20,
   "metadata": {},
   "outputs": [
    {
     "data": {
      "text/plain": [
       "Text(0.5, 1.0, 'Missing Values Heatmap')"
      ]
     },
     "execution_count": 20,
     "metadata": {},
     "output_type": "execute_result"
    },
    {
     "data": {
      "image/png": "[encoded data removed]",
      "text/plain": [
       "<Figure size 1440x360 with 1 Axes>"
      ]
     },
     "metadata": {
      "needs_background": "light"
     },
     "output_type": "display_data"
    }
   ],
   "source": [
    "## DATA CLEANING \n",
    "plt.figure(figsize=(20,5))\n",
    "\n",
    "sns.heatmap(chipdata.isnull(), yticklabels=\"None\", cbar=False)\n",
    "plt.title(\"Missing Values Heatmap\")"
   ]
  },
  {
   "cell_type": "code",
   "execution_count": 26,
   "metadata": {},
   "outputs": [
    {
     "data": {
      "text/plain": [
       "Text(0.5, 1.0, 'Missing Values Heatmap')"
      ]
     },
     "execution_count": 26,
     "metadata": {},
     "output_type": "execute_result"
    },
    {
     "data": {
      "image/png": "[encoded data removed]",
      "text/plain": [
       "<Figure size 1440x360 with 1 Axes>"
      ]
     },
     "metadata": {
      "needs_background": "light"
     },
     "output_type": "display_data"
    }
   ],
   "source": [
    "## Validate if there is a difference in missingness for GPUS and CPUs \n",
    "plt.figure(figsize=(20,5))\n",
    "\n",
    "sns.heatmap(chipdata.loc[chipdata.Type =='GPU'].isnull(), yticklabels=\"None\", cbar=False)\n",
    "plt.title(\"Missing Values Heatmap\")\n"
   ]
  },
  {
   "cell_type": "code",
   "execution_count": 27,
   "metadata": {},
   "outputs": [
    {
     "data": {
      "text/plain": [
       "Text(0.5, 1.0, 'Missing Values Heatmap')"
      ]
     },
     "execution_count": 27,
     "metadata": {},
     "output_type": "execute_result"
    },
    {
     "data": {
      "image/png": "[encoded data removed]",
      "text/plain": [
       "<Figure size 1440x360 with 1 Axes>"
      ]
     },
     "metadata": {
      "needs_background": "light"
     },
     "output_type": "display_data"
    }
   ],
   "source": [
    "## Validate if there is a difference in missingness for GPUS and CPUs \n",
    "plt.figure(figsize=(20,5))\n",
    "\n",
    "sns.heatmap(chipdata.loc[chipdata.Type =='CPU'].isnull(), yticklabels=\"None\", cbar=False)\n",
    "plt.title(\"Missing Values Heatmap\")"
   ]
  },
  {
   "cell_type": "code",
   "execution_count": 31,
   "metadata": {},
   "outputs": [],
   "source": [
    "# chipdata[\"Foundry\"].value_counts()"
   ]
  },
  {
   "cell_type": "code",
   "execution_count": 32,
   "metadata": {},
   "outputs": [
    {
     "data": {
      "text/plain": [
       "Product                   0.000000\n",
       "Type                      0.000000\n",
       "Process Size (nm)         0.000000\n",
       "Vendor                    0.000000\n",
       "Release Date              4.024267\n",
       "Die Size (mm^2)           7.118301\n",
       "TDP (W)                   8.837209\n",
       "Freq (GHz)                8.837209\n",
       "Transistors (million)    11.223458\n",
       "Foundry                  12.436805\n",
       "FP32 GFLOPS              65.925177\n",
       "FP64 GFLOPS              74.155713\n",
       "FP16 GFLOPS              83.822042\n",
       "dtype: float64"
      ]
     },
     "execution_count": 32,
     "metadata": {},
     "output_type": "execute_result"
    }
   ],
   "source": [
    "missing_values = chipdata.isnull().sum()\n",
    "missing_percent = (missing_values / len(chipdata)) * 100\n",
    "missing_percent.sort_values()"
   ]
  },
  {
   "cell_type": "code",
   "execution_count": 34,
   "metadata": {},
   "outputs": [
    {
     "name": "stderr",
     "output_type": "stream",
     "text": [
      "C:\\Users\\DE737AP\\AppData\\Local\\Temp\\ipykernel_40144\\1722680753.py:7: SettingWithCopyWarning: \n",
      "A value is trying to be set on a copy of a slice from a DataFrame.\n",
      "Try using .loc[row_indexer,col_indexer] = value instead\n",
      "\n",
      "See the caveats in the documentation: https://pandas.pydata.org/pandas-docs/stable/user_guide/indexing.html#returning-a-view-versus-a-copy\n",
      "  data_cleaned[numerical_cols] = data_cleaned[numerical_cols].fillna(data_cleaned[numerical_cols].median())\n",
      "C:\\Users\\DE737AP\\AppData\\Local\\Temp\\ipykernel_40144\\1722680753.py:11: SettingWithCopyWarning: \n",
      "A value is trying to be set on a copy of a slice from a DataFrame.\n",
      "Try using .loc[row_indexer,col_indexer] = value instead\n",
      "\n",
      "See the caveats in the documentation: https://pandas.pydata.org/pandas-docs/stable/user_guide/indexing.html#returning-a-view-versus-a-copy\n",
      "  data_cleaned[categorical_cols] = data_cleaned[categorical_cols].fillna(data_cleaned[categorical_cols].mode().iloc[0])\n"
     ]
    }
   ],
   "source": [
    "# Drop columns with more than 50% missing values\n",
    "threshold = 50  # Adjust this threshold based on your judgment\n",
    "data_cleaned = chipdata.dropna(thresh=len(chipdata) - threshold*len(chipdata)/100, axis=1)\n",
    "\n",
    "# Impute missing values in numerical columns with mean\n",
    "numerical_cols = data_cleaned.select_dtypes(include=['float64']).columns\n",
    "data_cleaned[numerical_cols] = data_cleaned[numerical_cols].fillna(data_cleaned[numerical_cols].median())\n",
    "\n",
    "# Impute missing values in categorical columns with mode\n",
    "categorical_cols = data_cleaned.select_dtypes(include=['object']).columns\n",
    "data_cleaned[categorical_cols] = data_cleaned[categorical_cols].fillna(data_cleaned[categorical_cols].mode().iloc[0])\n",
    "# Convert a column to datetime format\n",
    "# data_cleaned['Release Date'] = pd.to_datetime(data_cleaned['Release Date'], format='%Y-%m-%d')"
   ]
  },
  {
   "cell_type": "code",
   "execution_count": 35,
   "metadata": {},
   "outputs": [
    {
     "data": {
      "text/plain": [
       "Text(0.5, 1.0, 'Missing Values Heatmap')"
      ]
     },
     "execution_count": 35,
     "metadata": {},
     "output_type": "execute_result"
    },
    {
     "data": {
      "image/png": "[encoded data removed]",
      "text/plain": [
       "<Figure size 1440x360 with 1 Axes>"
      ]
     },
     "metadata": {
      "needs_background": "light"
     },
     "output_type": "display_data"
    }
   ],
   "source": [
    "plt.figure(figsize=(20,5))\n",
    "\n",
    "sns.heatmap(data_cleaned.isnull(), yticklabels=\"None\", cbar=False)\n",
    "plt.title(\"Missing Values Heatmap\")"
   ]
  },
  {
   "cell_type": "code",
   "execution_count": 37,
   "metadata": {},
   "outputs": [
    {
     "data": {
      "text/plain": [
       "AMD       1689\n",
       "Intel     1472\n",
       "NVIDIA    1191\n",
       "ATI        499\n",
       "Matrox      26\n",
       "XGI         21\n",
       "3dfx        20\n",
       "Sony        14\n",
       "VIA         13\n",
       "Name: Vendor, dtype: int64"
      ]
     },
     "execution_count": 37,
     "metadata": {},
     "output_type": "execute_result"
    }
   ],
   "source": [
    "data_cleaned[\"Type\"].value_counts()\n",
    "chipdata[\"Foundry\"].value_counts()\n",
    "chipdata[\"Vendor\"].value_counts()"
   ]
  },
  {
   "cell_type": "markdown",
   "metadata": {},
   "source": [
    "## INSIGHTS GATHERING FROM EDA \n",
    "# Assumption 1 Moore's Law still holds, especially in GPUs.\n",
    "Moore's Law states that the number of transistors on a microchip doubles approximately every two years. To validate this assumption, observe if the \"Transistors\" attribute follows an upward trend over the years. If the number of transistors tends to double roughly every two years, it would support the validity of Moore's Law.\n"
   ]
  },
  {
   "cell_type": "code",
   "execution_count": 38,
   "metadata": {},
   "outputs": [
    {
     "ename": "AttributeError",
     "evalue": "Can only use .dt accessor with datetimelike values",
     "output_type": "error",
     "traceback": [
      "\u001b[1;31m---------------------------------------------------------------------------\u001b[0m",
      "\u001b[1;31mAttributeError\u001b[0m                            Traceback (most recent call last)",
      "Input \u001b[1;32mIn [38]\u001b[0m, in \u001b[0;36m<cell line: 1>\u001b[1;34m()\u001b[0m\n\u001b[1;32m----> 1\u001b[0m yearly_progress \u001b[38;5;241m=\u001b[39m data_cleaned\u001b[38;5;241m.\u001b[39mgroupby(\u001b[43mdata_cleaned\u001b[49m\u001b[43m[\u001b[49m\u001b[38;5;124;43m\"\u001b[39;49m\u001b[38;5;124;43mRelease Date\u001b[39;49m\u001b[38;5;124;43m\"\u001b[39;49m\u001b[43m]\u001b[49m\u001b[38;5;241;43m.\u001b[39;49m\u001b[43mdt\u001b[49m\u001b[38;5;241m.\u001b[39myear)[\u001b[38;5;124m\"\u001b[39m\u001b[38;5;124mTransistors (million)\u001b[39m\u001b[38;5;124m\"\u001b[39m]\u001b[38;5;241m.\u001b[39mmean()\n\u001b[0;32m      2\u001b[0m \u001b[38;5;66;03m# Create a line plot of mean Transistors over the years\u001b[39;00m\n\u001b[0;32m      3\u001b[0m plt\u001b[38;5;241m.\u001b[39mfigure(figsize\u001b[38;5;241m=\u001b[39m(\u001b[38;5;241m10\u001b[39m, \u001b[38;5;241m6\u001b[39m))\n",
      "File \u001b[1;32mc:\\Users\\DE737AP\\Anaconda3\\lib\\site-packages\\pandas\\core\\generic.py:5575\u001b[0m, in \u001b[0;36mNDFrame.__getattr__\u001b[1;34m(self, name)\u001b[0m\n\u001b[0;32m   5568\u001b[0m \u001b[38;5;28;01mif\u001b[39;00m (\n\u001b[0;32m   5569\u001b[0m     name \u001b[38;5;129;01mnot\u001b[39;00m \u001b[38;5;129;01min\u001b[39;00m \u001b[38;5;28mself\u001b[39m\u001b[38;5;241m.\u001b[39m_internal_names_set\n\u001b[0;32m   5570\u001b[0m     \u001b[38;5;129;01mand\u001b[39;00m name \u001b[38;5;129;01mnot\u001b[39;00m \u001b[38;5;129;01min\u001b[39;00m \u001b[38;5;28mself\u001b[39m\u001b[38;5;241m.\u001b[39m_metadata\n\u001b[0;32m   5571\u001b[0m     \u001b[38;5;129;01mand\u001b[39;00m name \u001b[38;5;129;01mnot\u001b[39;00m \u001b[38;5;129;01min\u001b[39;00m \u001b[38;5;28mself\u001b[39m\u001b[38;5;241m.\u001b[39m_accessors\n\u001b[0;32m   5572\u001b[0m     \u001b[38;5;129;01mand\u001b[39;00m \u001b[38;5;28mself\u001b[39m\u001b[38;5;241m.\u001b[39m_info_axis\u001b[38;5;241m.\u001b[39m_can_hold_identifiers_and_holds_name(name)\n\u001b[0;32m   5573\u001b[0m ):\n\u001b[0;32m   5574\u001b[0m     \u001b[38;5;28;01mreturn\u001b[39;00m \u001b[38;5;28mself\u001b[39m[name]\n\u001b[1;32m-> 5575\u001b[0m \u001b[38;5;28;01mreturn\u001b[39;00m \u001b[38;5;28;43mobject\u001b[39;49m\u001b[38;5;241;43m.\u001b[39;49m\u001b[38;5;21;43m__getattribute__\u001b[39;49m\u001b[43m(\u001b[49m\u001b[38;5;28;43mself\u001b[39;49m\u001b[43m,\u001b[49m\u001b[43m \u001b[49m\u001b[43mname\u001b[49m\u001b[43m)\u001b[49m\n",
      "File \u001b[1;32mc:\\Users\\DE737AP\\Anaconda3\\lib\\site-packages\\pandas\\core\\accessor.py:182\u001b[0m, in \u001b[0;36mCachedAccessor.__get__\u001b[1;34m(self, obj, cls)\u001b[0m\n\u001b[0;32m    179\u001b[0m \u001b[38;5;28;01mif\u001b[39;00m obj \u001b[38;5;129;01mis\u001b[39;00m \u001b[38;5;28;01mNone\u001b[39;00m:\n\u001b[0;32m    180\u001b[0m     \u001b[38;5;66;03m# we're accessing the attribute of the class, i.e., Dataset.geo\u001b[39;00m\n\u001b[0;32m    181\u001b[0m     \u001b[38;5;28;01mreturn\u001b[39;00m \u001b[38;5;28mself\u001b[39m\u001b[38;5;241m.\u001b[39m_accessor\n\u001b[1;32m--> 182\u001b[0m accessor_obj \u001b[38;5;241m=\u001b[39m \u001b[38;5;28;43mself\u001b[39;49m\u001b[38;5;241;43m.\u001b[39;49m\u001b[43m_accessor\u001b[49m\u001b[43m(\u001b[49m\u001b[43mobj\u001b[49m\u001b[43m)\u001b[49m\n\u001b[0;32m    183\u001b[0m \u001b[38;5;66;03m# Replace the property with the accessor object. Inspired by:\u001b[39;00m\n\u001b[0;32m    184\u001b[0m \u001b[38;5;66;03m# https://www.pydanny.com/cached-property.html\u001b[39;00m\n\u001b[0;32m    185\u001b[0m \u001b[38;5;66;03m# We need to use object.__setattr__ because we overwrite __setattr__ on\u001b[39;00m\n\u001b[0;32m    186\u001b[0m \u001b[38;5;66;03m# NDFrame\u001b[39;00m\n\u001b[0;32m    187\u001b[0m \u001b[38;5;28mobject\u001b[39m\u001b[38;5;241m.\u001b[39m\u001b[38;5;21m__setattr__\u001b[39m(obj, \u001b[38;5;28mself\u001b[39m\u001b[38;5;241m.\u001b[39m_name, accessor_obj)\n",
      "File \u001b[1;32mc:\\Users\\DE737AP\\Anaconda3\\lib\\site-packages\\pandas\\core\\indexes\\accessors.py:509\u001b[0m, in \u001b[0;36mCombinedDatetimelikeProperties.__new__\u001b[1;34m(cls, data)\u001b[0m\n\u001b[0;32m    506\u001b[0m \u001b[38;5;28;01melif\u001b[39;00m is_period_dtype(data\u001b[38;5;241m.\u001b[39mdtype):\n\u001b[0;32m    507\u001b[0m     \u001b[38;5;28;01mreturn\u001b[39;00m PeriodProperties(data, orig)\n\u001b[1;32m--> 509\u001b[0m \u001b[38;5;28;01mraise\u001b[39;00m \u001b[38;5;167;01mAttributeError\u001b[39;00m(\u001b[38;5;124m\"\u001b[39m\u001b[38;5;124mCan only use .dt accessor with datetimelike values\u001b[39m\u001b[38;5;124m\"\u001b[39m)\n",
      "\u001b[1;31mAttributeError\u001b[0m: Can only use .dt accessor with datetimelike values"
     ]
    }
   ],
   "source": [
    "yearly_progress = data_cleaned.groupby(data_cleaned[\"Release Date\"].dt.year)[\"Transistors (million)\"].mean()\n",
    "# Create a line plot of mean Transistors over the years\n",
    "plt.figure(figsize=(10, 6))\n",
    "yearly_progress.plot(color= 'green', marker=\"o\")\n",
    "plt.title(\"Mean Transistors Over the Years\")\n",
    "plt.xlabel(\"Release Year\")\n",
    "plt.ylabel(\"Mean Transistors (million)\")\n",
    "plt.grid()\n",
    "plt.show()"
   ]
  },
  {
   "cell_type": "markdown",
   "metadata": {},
   "source": []
  }
 ],
 "metadata": {
  "kernelspec": {
   "display_name": "base",
   "language": "python",
   "name": "python3"
  },
  "language_info": {
   "codemirror_mode": {
    "name": "ipython",
    "version": 3
   },
   "file_extension": ".py",
   "mimetype": "text/x-python",
   "name": "python",
   "nbconvert_exporter": "python",
   "pygments_lexer": "ipython3",
   "version": "3.9.12"
  },
  "orig_nbformat": 4
 },
 "nbformat": 4,
 "nbformat_minor": 2
}
